{
 "cells": [
  {
   "cell_type": "code",
   "execution_count": 310,
   "metadata": {},
   "outputs": [],
   "source": [
    "import numpy as np\n",
    "import pandas as pd\n",
    "import seaborn as sns\n",
    "import matplotlib.pyplot as plt\n",
    "from sklearn.model_selection import train_test_split\n",
    "from sklearn.model_selection import GridSearchCV, RandomizedSearchCV\n",
    "from sklearn.linear_model import LogisticRegression\n",
    "from sklearn.metrics import accuracy_score\n",
    "from sklearn.metrics import roc_auc_score\n",
    "from sklearn import metrics\n",
    "from sklearn.model_selection import cross_val_score\n",
    "from sklearn.preprocessing import StandardScaler\n",
    "\n",
    "import warnings\n",
    "warnings.filterwarnings('ignore')"
   ]
  },
  {
   "cell_type": "markdown",
   "metadata": {},
   "source": [
    "### Load the dataset\n",
    "\n",
    "- Load the train data and using all your knowledge of pandas try to explore the different statistical properties of the dataset."
   ]
  },
  {
   "cell_type": "code",
   "execution_count": 311,
   "metadata": {},
   "outputs": [],
   "source": [
    "# Code starts here\n",
    "\n",
    "train_data = pd.read_csv('train.csv')\n",
    "X= train_data.drop(['insuranceclaim'] , axis = 1)\n",
    "y = train_data['insuranceclaim']\n",
    "# Code ends here."
   ]
  },
  {
   "cell_type": "markdown",
   "metadata": {},
   "source": [
    "### EDA & Data Preprocessing\n",
    "\n",
    "- Check for the categorical & continuous features. \n",
    "- Check out the best plots for plotting between categorical target and continuous features and try making some inferences from these plots."
   ]
  },
  {
   "cell_type": "code",
   "execution_count": 261,
   "metadata": {},
   "outputs": [
    {
     "data": {
      "image/png": "[encoded data removed]",
      "text/plain": [
       "<Figure size 432x288 with 1 Axes>"
      ]
     },
     "metadata": {
      "needs_background": "light"
     },
     "output_type": "display_data"
    },
    {
     "data": {
      "image/png": "[encoded data removed]",
      "text/plain": [
       "<Figure size 432x288 with 1 Axes>"
      ]
     },
     "metadata": {
      "needs_background": "light"
     },
     "output_type": "display_data"
    },
    {
     "data": {
      "image/png": "[encoded data removed]",
      "text/plain": [
       "<Figure size 432x288 with 1 Axes>"
      ]
     },
     "metadata": {
      "needs_background": "light"
     },
     "output_type": "display_data"
    },
    {
     "data": {
      "image/png": "[encoded data removed]",
      "text/plain": [
       "<Figure size 432x288 with 1 Axes>"
      ]
     },
     "metadata": {
      "needs_background": "light"
     },
     "output_type": "display_data"
    }
   ],
   "source": [
    "# For Numeric perform 1. Histograms to understand distribution, 2.Corr plot 3.Pivot table comparing your target variable across\n",
    "# other numeric features.\n",
    "# for Categorical perform 1.Bar charts to understand Balance . 2. Pivot table comparing relationship with target variable.\n",
    "df_num = train_data[['Id', 'age', 'bmi','charges']]\n",
    "df_cat = train_data[['sex', 'smoker', 'insuranceclaim', 'children', 'region']]\n",
    "# 1. Distribution for numeric data\n",
    "for i in df_num.columns:\n",
    "    plt.hist(df_num[i])\n",
    "    plt.title(i)\n",
    "    plt.show()\n",
    "# Only Bmi is fairly distributed , for rest we have to normalize and scale them"
   ]
  },
  {
   "cell_type": "code",
   "execution_count": 262,
   "metadata": {},
   "outputs": [
    {
     "name": "stdout",
     "output_type": "stream",
     "text": [
      "               Id       age       bmi   charges\n",
      "Id       1.000000 -0.031798 -0.018060 -0.009031\n",
      "age     -0.031798  1.000000  0.091499  0.316429\n",
      "bmi     -0.018060  0.091499  1.000000  0.197609\n",
      "charges -0.009031  0.316429  0.197609  1.000000\n"
     ]
    },
    {
     "data": {
      "text/plain": [
       "<matplotlib.axes._subplots.AxesSubplot at 0x26c09b2eec8>"
      ]
     },
     "execution_count": 262,
     "metadata": {},
     "output_type": "execute_result"
    },
    {
     "data": {
      "image/png": "[encoded data removed]",
      "text/plain": [
       "<Figure size 432x288 with 2 Axes>"
      ]
     },
     "metadata": {
      "needs_background": "light"
     },
     "output_type": "display_data"
    }
   ],
   "source": [
    "# 2. Corr plot\n",
    "\n",
    "print(df_num.corr())\n",
    "sns.heatmap(df_num.corr())\n",
    "# Not much correlation between numeric features"
   ]
  },
  {
   "cell_type": "code",
   "execution_count": 263,
   "metadata": {},
   "outputs": [
    {
     "data": {
      "text/html": [
       "<div>\n",
       "<style scoped>\n",
       "    .dataframe tbody tr th:only-of-type {\n",
       "        vertical-align: middle;\n",
       "    }\n",
       "\n",
       "    .dataframe tbody tr th {\n",
       "        vertical-align: top;\n",
       "    }\n",
       "\n",
       "    .dataframe thead th {\n",
       "        text-align: right;\n",
       "    }\n",
       "</style>\n",
       "<table border=\"1\" class=\"dataframe\">\n",
       "  <thead>\n",
       "    <tr style=\"text-align: right;\">\n",
       "      <th></th>\n",
       "      <th>Id</th>\n",
       "      <th>age</th>\n",
       "      <th>bmi</th>\n",
       "      <th>charges</th>\n",
       "    </tr>\n",
       "    <tr>\n",
       "      <th>insuranceclaim</th>\n",
       "      <th></th>\n",
       "      <th></th>\n",
       "      <th></th>\n",
       "      <th></th>\n",
       "    </tr>\n",
       "  </thead>\n",
       "  <tbody>\n",
       "    <tr>\n",
       "      <td>0</td>\n",
       "      <td>683.500000</td>\n",
       "      <td>37.688312</td>\n",
       "      <td>27.922522</td>\n",
       "      <td>9001.025793</td>\n",
       "    </tr>\n",
       "    <tr>\n",
       "      <td>1</td>\n",
       "      <td>657.309211</td>\n",
       "      <td>40.050987</td>\n",
       "      <td>32.441291</td>\n",
       "      <td>16501.355190</td>\n",
       "    </tr>\n",
       "  </tbody>\n",
       "</table>\n",
       "</div>"
      ],
      "text/plain": [
       "                        Id        age        bmi       charges\n",
       "insuranceclaim                                                \n",
       "0               683.500000  37.688312  27.922522   9001.025793\n",
       "1               657.309211  40.050987  32.441291  16501.355190"
      ]
     },
     "execution_count": 263,
     "metadata": {},
     "output_type": "execute_result"
    }
   ],
   "source": [
    "# 3.Pivot table to get relationship between target feature vs others\n",
    "pd.pivot_table(train_data, index = 'insuranceclaim', values = ['Id', 'age', 'bmi','charges'])"
   ]
  },
  {
   "cell_type": "code",
   "execution_count": 264,
   "metadata": {},
   "outputs": [
    {
     "data": {
      "image/png": "[encoded data removed]",
      "text/plain": [
       "<Figure size 432x288 with 1 Axes>"
      ]
     },
     "metadata": {
      "needs_background": "light"
     },
     "output_type": "display_data"
    },
    {
     "data": {
      "image/png": "[encoded data removed]",
      "text/plain": [
       "<Figure size 432x288 with 1 Axes>"
      ]
     },
     "metadata": {
      "needs_background": "light"
     },
     "output_type": "display_data"
    },
    {
     "data": {
      "image/png": "[encoded data removed]",
      "text/plain": [
       "<Figure size 432x288 with 1 Axes>"
      ]
     },
     "metadata": {
      "needs_background": "light"
     },
     "output_type": "display_data"
    },
    {
     "data": {
      "image/png": "[encoded data removed]",
      "text/plain": [
       "<Figure size 432x288 with 1 Axes>"
      ]
     },
     "metadata": {
      "needs_background": "light"
     },
     "output_type": "display_data"
    },
    {
     "data": {
      "image/png": "[encoded data removed]",
      "text/plain": [
       "<Figure size 432x288 with 1 Axes>"
      ]
     },
     "metadata": {
      "needs_background": "light"
     },
     "output_type": "display_data"
    }
   ],
   "source": [
    "# for Categorical features\n",
    "#1. Bar plots\n",
    "for i in df_cat.columns:\n",
    "    sns.barplot(df_cat[i].value_counts().index,df_cat[i].value_counts()).set_title(i)\n",
    "    plt.show()"
   ]
  },
  {
   "cell_type": "code",
   "execution_count": 141,
   "metadata": {},
   "outputs": [
    {
     "name": "stdout",
     "output_type": "stream",
     "text": [
      "sex               0    1\n",
      "insuranceclaim          \n",
      "0               239  223\n",
      "1               301  307\n",
      "\n",
      "children          0    1    2   3   4   5\n",
      "insuranceclaim                           \n",
      "0                93  126  127  86  19  11\n",
      "1               351  133   78  39   3   4\n",
      "\n",
      "region            0    1    2    3\n",
      "insuranceclaim                    \n",
      "0               108  134  102  118\n",
      "1               153  125  184  146\n",
      "\n",
      "smoker            0    1\n",
      "insuranceclaim          \n",
      "0               441   21\n",
      "1               411  197\n",
      "\n"
     ]
    }
   ],
   "source": [
    "# 2.Pivot table to get relationship between target feature vs others\n",
    "print(pd.pivot_table(train_data, index = 'insuranceclaim', columns = 'sex', values = 'bmi' ,aggfunc= 'count'))\n",
    "print()\n",
    "print(pd.pivot_table(train_data, index = 'insuranceclaim', columns = 'children', values = 'bmi' ,aggfunc= 'count'))\n",
    "print()\n",
    "print(pd.pivot_table(train_data, index = 'insuranceclaim', columns = 'region', values = 'bmi' ,aggfunc= 'count'))\n",
    "print()\n",
    "print(pd.pivot_table(train_data, index = 'insuranceclaim', columns = 'smoker', values = 'bmi' ,aggfunc= 'count'))\n",
    "print()"
   ]
  },
  {
   "cell_type": "code",
   "execution_count": 142,
   "metadata": {},
   "outputs": [
    {
     "data": {
      "text/plain": [
       "Id                0\n",
       "age               0\n",
       "sex               0\n",
       "bmi               0\n",
       "children          0\n",
       "smoker            0\n",
       "region            0\n",
       "charges           0\n",
       "insuranceclaim    0\n",
       "dtype: int64"
      ]
     },
     "execution_count": 142,
     "metadata": {},
     "output_type": "execute_result"
    }
   ],
   "source": [
    "#Data preprocessing\n",
    "train_data.isnull().sum() # Check Null values and fill it using mean or median values\n",
    "# Drop unwanted features like 'Id' in this case"
   ]
  },
  {
   "cell_type": "markdown",
   "metadata": {},
   "source": [
    "### Model building\n",
    "\n",
    "- Separate the features and target and then split the train data into train and validation set.\n",
    "- Now let's come to the actual task, using logistic regression, predict the insuranceclaim. Select the best model by cross-validation using Grid Search.\n",
    "- Try improving upon the `roc_auc_score` using different parameters for Grid Search that give the best score.\n",
    "\n"
   ]
  },
  {
   "cell_type": "code",
   "execution_count": 312,
   "metadata": {},
   "outputs": [],
   "source": [
    "# Code starts here\n",
    "#Split train data into train and validation set\n",
    "X_train,X_test , y_train , y_test = train_test_split(X,y, test_size = 0.33, random_state = 42)\n",
    "# Feature Scaling to normalize features like age, Charges,Bmi \n",
    "sc = StandardScaler()\n",
    "X_train = sc.fit_transform(X_train)\n",
    "X_test = sc.transform(X_test)"
   ]
  },
  {
   "cell_type": "code",
   "execution_count": 313,
   "metadata": {},
   "outputs": [
    {
     "name": "stdout",
     "output_type": "stream",
     "text": [
      "Best Penalty: l1\n",
      "Best C: 0.23357214690901212\n",
      "Best Solver: liblinear\n",
      "Best max_iter: 100\n"
     ]
    }
   ],
   "source": [
    "#Applying Grid Search to find Best model and parameters\n",
    "logistic = LogisticRegression()\n",
    "penalty = ['l1','l2']\n",
    "C = np.logspace(-4, 4, 20)\n",
    "solver =  ['liblinear', 'saga', 'warn']\n",
    "max_iter = [100, 1000,2000,2500]\n",
    "hyperparameters = dict(C=C, penalty=penalty,solver = solver, max_iter =max_iter)\n",
    "clf = GridSearchCV(logistic, hyperparameters, cv=7, verbose=0, n_jobs = -1)\n",
    "best_model = clf.fit(X_train, y_train)\n",
    "print('Best Penalty:', best_model.best_estimator_.get_params()['penalty'])\n",
    "print('Best C:', best_model.best_estimator_.get_params()['C'])\n",
    "print('Best Solver:',best_model.best_estimator_.get_params()['solver'])\n",
    "print('Best max_iter:',best_model.best_estimator_.get_params()['max_iter'])\n"
   ]
  },
  {
   "cell_type": "code",
   "execution_count": 314,
   "metadata": {},
   "outputs": [
    {
     "name": "stdout",
     "output_type": "stream",
     "text": [
      "0.9074024704523238\n"
     ]
    }
   ],
   "source": [
    "clf_tuned = LogisticRegression(penalty = 'l1', C =0.23357214690901212,solver= 'liblinear', max_iter = 100)\n",
    "best_tuned = clf_tuned.fit(X_train,y_train)\n",
    "best_predict = best_tuned.predict(X_val)\n",
    "roc_auc_score_tuned = roc_auc_score(y_val,best_predict)\n",
    "print(roc_auc_score_tuned)\n",
    "\n",
    "\n"
   ]
  },
  {
   "cell_type": "markdown",
   "metadata": {},
   "source": [
    "### Prediction on the test data and creating the sample submission file.\n",
    "\n",
    "- Load the test data and store the `Id` column in a separate variable.\n",
    "- Perform the same operations on the test data that you have performed on the train data.\n",
    "- Create the submission file as a `csv` file consisting of the `Id` column from the test data and your prediction as the second column."
   ]
  },
  {
   "cell_type": "code",
   "execution_count": 315,
   "metadata": {},
   "outputs": [],
   "source": [
    "# Code starts here\n",
    "\n",
    "test_data = pd.read_csv('test.csv')\n",
    "sc = StandardScaler()\n",
    "X_test = sc.fit_transform(test_data)\n"
   ]
  },
  {
   "cell_type": "code",
   "execution_count": 317,
   "metadata": {},
   "outputs": [
    {
     "name": "stdout",
     "output_type": "stream",
     "text": [
      "       Id  insuranceclaim\n",
      "0     811               0\n",
      "1     973               1\n",
      "2     308               1\n",
      "3     845               1\n",
      "4    1050               1\n",
      "..    ...             ...\n",
      "263   461               1\n",
      "264   626               0\n",
      "265   614               1\n",
      "266   636               0\n",
      "267  1224               0\n",
      "\n",
      "[268 rows x 2 columns]\n",
      "Saved file: submission.csv\n"
     ]
    }
   ],
   "source": [
    "test_prediction = best_tuned.predict(X_test)\n",
    "\n",
    "submission = pd.DataFrame({'Id':test_data['Id'], 'insuranceclaim':test_prediction})\n",
    "print(submission)\n",
    "filename = 'submission.csv'\n",
    "submission.to_csv(filename,index=False)\n",
    "print('Saved file: ' + filename)\n",
    "# Code ends here."
   ]
  },
  {
   "cell_type": "code",
   "execution_count": null,
   "metadata": {},
   "outputs": [],
   "source": []
  }
 ],
 "metadata": {
  "kernelspec": {
   "display_name": "Python 3",
   "language": "python",
   "name": "python3"
  },
  "language_info": {
   "codemirror_mode": {
    "name": "ipython",
    "version": 3
   },
   "file_extension": ".py",
   "mimetype": "text/x-python",
   "name": "python",
   "nbconvert_exporter": "python",
   "pygments_lexer": "ipython3",
   "version": "3.7.4"
  }
 },
 "nbformat": 4,
 "nbformat_minor": 2
}
