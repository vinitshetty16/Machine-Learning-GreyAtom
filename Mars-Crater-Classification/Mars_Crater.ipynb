{
 "cells": [
  {
   "cell_type": "code",
   "execution_count": 5,
   "metadata": {},
   "outputs": [],
   "source": [
    "# import the modules\n",
    "import warnings\n",
    "warnings.filterwarnings('ignore')\n",
    "\n",
    "from sklearn.model_selection import train_test_split\n",
    "from sklearn.preprocessing import MinMaxScaler\n",
    "import pandas as pd\n",
    "import matplotlib.pyplot as plt\n",
    "from sklearn.metrics import classification_report\n",
    "from sklearn.linear_model import LogisticRegression\n",
    "from sklearn.metrics import roc_auc_score\n",
    "from sklearn.tree import DecisionTreeClassifier\n",
    "from sklearn.ensemble import RandomForestClassifier\n",
    "from sklearn.ensemble import BaggingClassifier\n",
    "from sklearn.ensemble import VotingClassifier"
   ]
  },
  {
   "cell_type": "markdown",
   "metadata": {},
   "source": [
    "### Load the dataset\n",
    "\n",
    "- Load the train data and using all your knowledge try to explore the different statistical properties of the dataset."
   ]
  },
  {
   "cell_type": "code",
   "execution_count": 6,
   "metadata": {},
   "outputs": [],
   "source": [
    "# Code starts here\n",
    "train = pd.read_csv(\"train.csv\")\n",
    "\n",
    "# Dependent variable\n",
    "y = train['attr1089']\n",
    "\n",
    "# Independent variable\n",
    "X = train.drop(columns=['Id', 'Unnamed: 0', 'attr1089'])\n",
    "# Code ends here"
   ]
  },
  {
   "cell_type": "markdown",
   "metadata": {},
   "source": [
    "### Visualize the data\n",
    "\n",
    "- Check the distribution of the target variable. Is the data imbalanced?\n",
    "- Clean the data, apply some data preprocessing and engineering techniques."
   ]
  },
  {
   "cell_type": "code",
   "execution_count": 7,
   "metadata": {},
   "outputs": [
    {
     "name": "stdout",
     "output_type": "stream",
     "text": [
      "1    3080\n",
      "0    2812\n",
      "Name: attr1089, dtype: int64\n"
     ]
    },
    {
     "data": {
      "image/png": "[encoded data removed]",
      "text/plain": [
       "<Figure size 432x288 with 1 Axes>"
      ]
     },
     "metadata": {
      "needs_background": "light"
     },
     "output_type": "display_data"
    }
   ],
   "source": [
    "#Storing value counts of target variable in 'fully_paid'\n",
    "crater_count = y.value_counts()\n",
    "print(y.value_counts())\n",
    "\n",
    "#Plotting bar plot\n",
    "plt.bar(crater_count.index, crater_count, tick_label = [1,0])\n",
    "plt.show()\n",
    "\n",
    "# Standardize the data\n",
    "scaler = MinMaxScaler()\n",
    "scaler.fit(X)\n",
    "X = scaler.transform(X)\n",
    "\n"
   ]
  },
  {
   "cell_type": "markdown",
   "metadata": {},
   "source": [
    "### Model building\n",
    "\n",
    "- Split the data into train and test.\n",
    "- Now let's come to the actual task, predict the values of `attr1089` after building a Machine learning model.\n",
    "- Try improving upon the `roc_auc_score` ([ROC-AUC Score](https://scikit-learn.org/stable/modules/generated/sklearn.metrics.roc_auc_score.html#sklearn.metrics.roc_auc_score))"
   ]
  },
  {
   "cell_type": "code",
   "execution_count": 8,
   "metadata": {},
   "outputs": [
    {
     "name": "stdout",
     "output_type": "stream",
     "text": [
      "0.8118598822215637\n"
     ]
    }
   ],
   "source": [
    "# Code starts here\n",
    "\n",
    "# Split the data into train and test\n",
    "X_train,X_test,y_train,y_test = train_test_split(X,y,test_size=0.3,random_state=4)\n",
    "\n",
    "# Initialize the logistic regression\n",
    "lr = LogisticRegression()\n",
    "\n",
    "# Fit the model \n",
    "lr.fit(X_train,y_train)\n",
    "\n",
    "# Store the predicted values of test data\n",
    "y_pred = lr.predict(X_test)\n",
    "\n",
    "# roc score\n",
    "roc_score = roc_auc_score(y_pred,y_test)\n",
    "print(roc_score)"
   ]
  },
  {
   "cell_type": "code",
   "execution_count": 9,
   "metadata": {},
   "outputs": [
    {
     "name": "stdout",
     "output_type": "stream",
     "text": [
      "0.863399710814684\n"
     ]
    }
   ],
   "source": [
    "# Can we improve our model's performance with Decision Tree algorithm?\n",
    "\n",
    "# Initialize decision tree\n",
    "dt = DecisionTreeClassifier(random_state = 4)\n",
    "\n",
    "# Fit the model on train data\n",
    "dt.fit(X_train,y_train)\n",
    "\n",
    "# accuracy\n",
    "accuracy = dt.score(X_test,y_test)\n",
    "\n",
    "# Predicted values for test data\n",
    "y_pred = dt.predict(X_test)\n",
    "\n",
    "# ROC score\n",
    "roc_score = roc_auc_score(y_test,y_pred)\n",
    "print(roc_score)"
   ]
  },
  {
   "cell_type": "code",
   "execution_count": 10,
   "metadata": {},
   "outputs": [
    {
     "name": "stdout",
     "output_type": "stream",
     "text": [
      "0.8965213084929904\n"
     ]
    }
   ],
   "source": [
    "# Can we improve our model's performance with Random forrest algorithm?\n",
    "\n",
    "# Initialize RandomForrest model to variable rfc\n",
    "rfc = RandomForestClassifier(random_state=4)\n",
    "\n",
    "# Fit the model\n",
    "rfc.fit(X_train,y_train)\n",
    "\n",
    "# Store the predicted values of test data\n",
    "y_pred = rfc.predict(X_test)\n",
    "\n",
    "# accuracy\n",
    "accuracy = rfc.score(X_test,y_test)\n",
    "\n",
    "# roc score\n",
    "roc_score = roc_auc_score(y_test,y_pred)\n",
    "print(roc_score)"
   ]
  },
  {
   "cell_type": "code",
   "execution_count": 11,
   "metadata": {},
   "outputs": [
    {
     "name": "stdout",
     "output_type": "stream",
     "text": [
      "0.8252262443438914\n",
      "0.822202991669564\n"
     ]
    }
   ],
   "source": [
    "# Bagginng or Bootstrap aggregation\n",
    "\n",
    "# Initialize Bagging Classifier\n",
    "bagging_clf = BaggingClassifier(DecisionTreeClassifier(), random_state=0,n_estimators=100,max_samples=100)\n",
    "\n",
    "# Fit the model on training data\n",
    "bagging_clf.fit(X_train,y_train)\n",
    "\n",
    "# Predicted values of X_test\n",
    "y_pred = bagging_clf.predict(X_test)\n",
    "\n",
    "# accuracy \n",
    "print(bagging_clf.score(X_test,y_test))\n",
    "\n",
    "# roc_score\n",
    "score_bagging = roc_auc_score(y_test,y_pred)\n",
    "print(score_bagging)"
   ]
  },
  {
   "cell_type": "code",
   "execution_count": 12,
   "metadata": {},
   "outputs": [
    {
     "name": "stdout",
     "output_type": "stream",
     "text": [
      "0.8947963800904978\n"
     ]
    }
   ],
   "source": [
    "# Voting Classifier\n",
    "\n",
    "# Various models\n",
    "clf_1 = LogisticRegression()\n",
    "clf_2 = DecisionTreeClassifier(random_state=4)\n",
    "clf_3 = RandomForestClassifier(random_state=4)\n",
    "\n",
    "model_list = [('lr',clf_1),('DT',clf_2),('RF',clf_3)]\n",
    "\n",
    "# Code starts here\n",
    "# Initialize voting classifier\n",
    "voting_clf_hard = VotingClassifier(estimators=model_list,voting='hard')\n",
    "\n",
    "# Fit the model on training data\n",
    "voting_clf_hard.fit(X_train,y_train)\n",
    "\n",
    "# accuracy\n",
    "hard_voting_score = voting_clf_hard.score(X_test,y_test)\n",
    "print(hard_voting_score)"
   ]
  },
  {
   "cell_type": "markdown",
   "metadata": {},
   "source": [
    "### Prediction on the test data and creating the sample submission file.\n",
    "\n",
    "- Load the test data and store the `Id` column in a separate variable.\n",
    "- Perform the same operations on the test data that you have performed on the train data.\n",
    "- Create the submission file as a `csv` file consisting of the `Id` column from the test data and your prediction as the second column."
   ]
  },
  {
   "cell_type": "code",
   "execution_count": 13,
   "metadata": {},
   "outputs": [],
   "source": [
    "# Code Starts here\n",
    "# Prediction on test data\n",
    "\n",
    "# Read the test data\n",
    "test = pd.read_csv('test.csv')\n",
    "\n",
    "# Storing the id from the test file\n",
    "id_ = test['Id']\n",
    "\n",
    "# Apply the transformations on test\n",
    "test = test.drop(columns=['Id', 'Unnamed: 0'])\n",
    "test = scaler.transform(test)\n",
    "\n",
    "# Predict on the test data\n",
    "y_pred_test = rfc.predict(test)\n",
    "y_pred_test = y_pred_test.flatten()\n",
    "\n",
    "# Create a sample submission file\n",
    "sample_submission = pd.DataFrame({'Id':id_,'attr1089':y_pred_test})\n",
    "\n",
    "# Convert the sample submission file into a csv file\n",
    "sample_submission.to_csv('submission_test.csv',index=False)\n",
    "\n",
    "# Code ends here"
   ]
  },
  {
   "cell_type": "code",
   "execution_count": null,
   "metadata": {},
   "outputs": [],
   "source": []
  }
 ],
 "metadata": {
  "kernelspec": {
   "display_name": "Python 3",
   "language": "python",
   "name": "python3"
  },
  "language_info": {
   "codemirror_mode": {
    "name": "ipython",
    "version": 3
   },
   "file_extension": ".py",
   "mimetype": "text/x-python",
   "name": "python",
   "nbconvert_exporter": "python",
   "pygments_lexer": "ipython3",
   "version": "3.7.4"
  }
 },
 "nbformat": 4,
 "nbformat_minor": 2
}
